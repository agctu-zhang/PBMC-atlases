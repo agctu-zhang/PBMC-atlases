{
 "cells": [
  {
   "cell_type": "code",
   "execution_count": 48,
   "id": "2baa7c71-5012-4e17-b561-0ebf7d1a94b6",
   "metadata": {},
   "outputs": [
    {
     "name": "stdout",
     "output_type": "stream",
     "text": [
      "Python version: 3.10.15 | packaged by conda-forge | (main, Sep 20 2024, 16:37:05) [GCC 13.3.0]\n",
      "pandas version: 2.2.2\n",
      "scib version: 1.1.5\n"
     ]
    }
   ],
   "source": [
    "import sys\n",
    "import pandas as pd\n",
    "import scib\n",
    "print(f\"Python version: {sys.version}\")\n",
    "print(f\"pandas version: {pd.__version__}\")\n",
    "print(f\"scib version: {scib.__version__}\")"
   ]
  },
  {
   "cell_type": "code",
   "execution_count": 49,
   "id": "2d56a216-99f0-4ef6-898e-eb17413e8edd",
   "metadata": {},
   "outputs": [],
   "source": [
    "import os\n",
    "os.environ['R_HOME'] = '/home/data/t090402/miniforge3/envs/scib/lib/R'"
   ]
  },
  {
   "cell_type": "code",
   "execution_count": 50,
   "id": "2995af27-8be3-472a-8e7d-7a63bf977853",
   "metadata": {},
   "outputs": [],
   "source": [
    "import scanpy as sc\n",
    "import pandas as pd\n",
    "import os\n",
    "import sys\n",
    "\n",
    "# Required step before importing scib\n",
    "RHOME = os.path.join(sys.executable.split('/bin/')[0],'lib/R')\n",
    "from rpy2.rinterface_lib import openrlib\n",
    "openrlib.R_HOME = RHOME\n",
    "import scib"
   ]
  },
  {
   "cell_type": "code",
   "execution_count": 51,
   "id": "86eada24-531a-4fe1-8ccb-8c728260dbd5",
   "metadata": {
    "scrolled": true
   },
   "outputs": [],
   "source": [
    "adata = sc.read_h5ad('/home/data/t090402/data/PBMC/h5ad/all.h5ad')\n",
    "adata.X = adata.X.tocsr()"
   ]
  },
  {
   "cell_type": "code",
   "execution_count": 52,
   "id": "878489f2-9be9-4c59-8c8d-2d7de51a19ac",
   "metadata": {},
   "outputs": [],
   "source": [
    "integration_result = {}\n",
    "bench_result = {}\n",
    "BATCH_KEY = 'sample'\n",
    "CELLTYPE_KEY = 'multi_annotation'"
   ]
  },
  {
   "cell_type": "code",
   "execution_count": 53,
   "id": "d46410c6-c84d-4ddb-bab5-d88e74a2645f",
   "metadata": {},
   "outputs": [
    {
     "data": {
      "text/plain": [
       "AnnData object with n_obs × n_vars = 168716 × 228328\n",
       "    obs: 'sample', 'multi_annotation'\n",
       "    var: 'name'"
      ]
     },
     "execution_count": 53,
     "metadata": {},
     "output_type": "execute_result"
    }
   ],
   "source": [
    "adata"
   ]
  },
  {
   "cell_type": "code",
   "execution_count": 54,
   "id": "620f2d7d-8ffb-4591-853f-d2556b89e36e",
   "metadata": {},
   "outputs": [
    {
     "name": "stderr",
     "output_type": "stream",
     "text": [
      "/home/data/t090402/miniforge3/envs/scib/lib/python3.10/site-packages/scanpy/preprocessing/_simple.py:583: DeprecationWarning: The specified parameters ('counts_per_cell_after', 'counts_per_cell') are no longer positional. Please specify them like `counts_per_cell_after=10000.0`\n",
      "  normalize_per_cell(adata.X, counts_per_cell_after, counts_per_cell)\n"
     ]
    }
   ],
   "source": [
    "# Total-count normalize (library-size correct) to 10,000 reads/cell\n",
    "sc.pp.normalize_per_cell(adata, counts_per_cell_after=1e4)\n",
    "\n",
    "# log transform the data.\n",
    "sc.pp.log1p(adata)\n",
    "\n",
    "# identify highly variable genes.\n",
    "sc.pp.highly_variable_genes(adata, min_mean=0.0125, max_mean=3, min_disp=0.5)\n",
    "\n",
    "# keep only highly variable genes:\n",
    "adata = adata[:, adata.var['highly_variable']]"
   ]
  },
  {
   "cell_type": "code",
   "execution_count": 55,
   "id": "8020d46a-49a9-477a-8303-86651f3a9bb1",
   "metadata": {},
   "outputs": [
    {
     "name": "stderr",
     "output_type": "stream",
     "text": [
      "/home/data/t090402/miniforge3/envs/scib/lib/python3.10/site-packages/scanpy/preprocessing/_pca.py:317: ImplicitModificationWarning: Setting element `.obsm['X_pca']` of view, initializing view as actual.\n",
      "  adata.obsm[key_obsm] = X_pca\n"
     ]
    }
   ],
   "source": [
    "# Run PCA prior to run Harmony\n",
    "sc.tl.pca(adata)"
   ]
  },
  {
   "cell_type": "code",
   "execution_count": 56,
   "id": "0f196cdd-0953-4de0-88f4-92747965fb8a",
   "metadata": {},
   "outputs": [
    {
     "data": {
      "text/plain": [
       "AnnData object with n_obs × n_vars = 168716 × 15751\n",
       "    obs: 'sample', 'multi_annotation', 'n_counts'\n",
       "    var: 'name', 'highly_variable', 'means', 'dispersions', 'dispersions_norm'\n",
       "    uns: 'log1p', 'hvg', 'pca'\n",
       "    obsm: 'X_pca'\n",
       "    varm: 'PCs'"
      ]
     },
     "execution_count": 56,
     "metadata": {},
     "output_type": "execute_result"
    }
   ],
   "source": [
    "adata"
   ]
  },
  {
   "cell_type": "code",
   "execution_count": 57,
   "id": "f05bf091-d632-4a62-93ad-9bd24365ea25",
   "metadata": {},
   "outputs": [],
   "source": [
    "eval_metrics = {\n",
    "        'isolated_labels_asw_': True,\n",
    "        'silhouette_':True,\n",
    "        'hvg_score_':True,\n",
    "        'graph_conn_':True,\n",
    "        'pcr_':True,\n",
    "        'isolated_labels_f1_':True,\n",
    "        'nmi_':True,\n",
    "        'ari_':True,\n",
    "        'cell_cycle_':False,\n",
    "        'kBET_':True,\n",
    "        'ilisi_':True,\n",
    "        'clisi_':True\n",
    "}"
   ]
  },
  {
   "cell_type": "code",
   "execution_count": 58,
   "id": "9b5afb5b-974b-49a9-8fb8-10a79206a0ba",
   "metadata": {},
   "outputs": [
    {
     "data": {
      "text/plain": [
       "AnnData object with n_obs × n_vars = 168716 × 15751\n",
       "    obs: 'sample', 'multi_annotation', 'n_counts'\n",
       "    var: 'name', 'highly_variable', 'means', 'dispersions', 'dispersions_norm'\n",
       "    uns: 'log1p', 'hvg', 'pca'\n",
       "    obsm: 'X_pca'\n",
       "    varm: 'PCs'"
      ]
     },
     "execution_count": 58,
     "metadata": {},
     "output_type": "execute_result"
    }
   ],
   "source": [
    "adata"
   ]
  },
  {
   "cell_type": "code",
   "execution_count": 59,
   "id": "5f9d70e6-6505-4507-816e-6c88ccdad310",
   "metadata": {},
   "outputs": [
    {
     "data": {
      "text/plain": [
       "AnnData object with n_obs × n_vars = 168716 × 15751\n",
       "    obs: 'sample', 'multi_annotation', 'n_counts'\n",
       "    var: 'name', 'highly_variable', 'means', 'dispersions', 'dispersions_norm'\n",
       "    uns: 'log1p', 'hvg', 'pca'\n",
       "    obsm: 'X_pca'\n",
       "    varm: 'PCs'"
      ]
     },
     "execution_count": 59,
     "metadata": {},
     "output_type": "execute_result"
    }
   ],
   "source": [
    "adata"
   ]
  },
  {
   "cell_type": "code",
   "execution_count": null,
   "id": "fc0d4fba-92ba-44c2-b96c-310baf307f53",
   "metadata": {
    "scrolled": true
   },
   "outputs": [
    {
     "name": "stderr",
     "output_type": "stream",
     "text": [
      "2024-09-30 19:53:59,251 - harmonypy - INFO - Computing initial centroids with sklearn.KMeans...\n",
      "OpenBLAS warning: precompiled NUM_THREADS exceeded, adding auxiliary array for thread metadata.\n",
      "To avoid this warning, please rebuild your copy of OpenBLAS with a larger NUM_THREADS setting\n",
      "or set the environment variable OPENBLAS_NUM_THREADS to 64 or lower\n"
     ]
    }
   ],
   "source": [
    "# Harmony runs through R so:\n",
    "sc.external.pp.harmony_integrate(adata, BATCH_KEY)\n",
    "integration_result['harmony'] = adata\n",
    "sc.pp.neighbors(integration_result['harmony'])"
   ]
  },
  {
   "cell_type": "code",
   "execution_count": null,
   "id": "051f84e9-5f81-4415-a093-0283baf362ff",
   "metadata": {},
   "outputs": [],
   "source": [
    "integration_result['harmony']"
   ]
  },
  {
   "cell_type": "code",
   "execution_count": 62,
   "id": "203b8671-2e75-48ec-aa13-e28f62073757",
   "metadata": {
    "scrolled": true
   },
   "outputs": [
    {
     "name": "stderr",
     "output_type": "stream",
     "text": [
      "/home/data/t090402/miniforge3/envs/scib/lib/python3.10/site-packages/scib/metrics/metrics.py:293: DeprecationWarning: Call to deprecated function (or staticmethod) opt_louvain.\n",
      "  res_max, nmi_max, nmi_all = opt_louvain(\n"
     ]
    },
    {
     "name": "stdout",
     "output_type": "stream",
     "text": [
      "Clustering...\n",
      "resolution: 0.1, nmi: 0.5251834732394216\n",
      "resolution: 0.2, nmi: 0.5458345741039923\n",
      "resolution: 0.3, nmi: 0.5473299977122658\n",
      "resolution: 0.4, nmi: 0.5450727664082351\n",
      "resolution: 0.5, nmi: 0.551295372400717\n",
      "resolution: 0.6, nmi: 0.5410868966844717\n",
      "resolution: 0.7, nmi: 0.5424371160134206\n",
      "resolution: 0.8, nmi: 0.5436091416956094\n",
      "resolution: 0.9, nmi: 0.5434445883907676\n",
      "resolution: 1.0, nmi: 0.5438844455024197\n",
      "resolution: 1.1, nmi: 0.5507901111926689\n",
      "resolution: 1.2, nmi: 0.5493772421530554\n",
      "resolution: 1.3, nmi: 0.5493069079008343\n",
      "resolution: 1.4, nmi: 0.543441795901938\n",
      "resolution: 1.5, nmi: 0.5414434780586771\n",
      "resolution: 1.6, nmi: 0.5425080194025808\n",
      "resolution: 1.7, nmi: 0.5399043049596598\n",
      "resolution: 1.8, nmi: 0.543253783385494\n",
      "resolution: 1.9, nmi: 0.5430111387601767\n",
      "resolution: 2.0, nmi: 0.5430378335705127\n",
      "optimised clustering against multi_annotation\n",
      "optimal cluster resolution: 0.5\n",
      "optimal score: 0.551295372400717\n",
      "NMI...\n",
      "ARI...\n",
      "Silhouette score...\n",
      "KeysView(AxisArrays with keys: X_pca)\n"
     ]
    },
    {
     "ename": "KeyError",
     "evalue": "'X_harmony not in obsm'",
     "output_type": "error",
     "traceback": [
      "\u001b[0;31m---------------------------------------------------------------------------\u001b[0m",
      "\u001b[0;31mKeyError\u001b[0m                                  Traceback (most recent call last)",
      "Cell \u001b[0;32mIn[62], line 2\u001b[0m\n\u001b[1;32m      1\u001b[0m \u001b[38;5;66;03m# Compute the evaluation metrics for Harmony\u001b[39;00m\n\u001b[0;32m----> 2\u001b[0m bench_result[\u001b[38;5;124m'\u001b[39m\u001b[38;5;124mharmony\u001b[39m\u001b[38;5;124m'\u001b[39m] \u001b[38;5;241m=\u001b[39m \u001b[43mscib\u001b[49m\u001b[38;5;241;43m.\u001b[39;49m\u001b[43mme\u001b[49m\u001b[38;5;241;43m.\u001b[39;49m\u001b[43mmetrics\u001b[49m\u001b[43m(\u001b[49m\n\u001b[1;32m      3\u001b[0m \u001b[43m        \u001b[49m\u001b[43madata\u001b[49m\u001b[43m,\u001b[49m\n\u001b[1;32m      4\u001b[0m \u001b[43m        \u001b[49m\u001b[43mintegration_result\u001b[49m\u001b[43m[\u001b[49m\u001b[38;5;124;43m'\u001b[39;49m\u001b[38;5;124;43mharmony\u001b[39;49m\u001b[38;5;124;43m'\u001b[39;49m\u001b[43m]\u001b[49m\u001b[43m,\u001b[49m\n\u001b[1;32m      5\u001b[0m \u001b[43m        \u001b[49m\u001b[43mbatch_key\u001b[49m\u001b[43m \u001b[49m\u001b[38;5;241;43m=\u001b[39;49m\u001b[43m \u001b[49m\u001b[43mBATCH_KEY\u001b[49m\u001b[43m,\u001b[49m\n\u001b[1;32m      6\u001b[0m \u001b[43m        \u001b[49m\u001b[43mlabel_key\u001b[49m\u001b[43m \u001b[49m\u001b[38;5;241;43m=\u001b[39;49m\u001b[43m \u001b[49m\u001b[43mCELLTYPE_KEY\u001b[49m\u001b[43m,\u001b[49m\u001b[43m \u001b[49m\n\u001b[1;32m      7\u001b[0m \u001b[43m        \u001b[49m\u001b[43mverbose\u001b[49m\u001b[43m \u001b[49m\u001b[38;5;241;43m=\u001b[39;49m\u001b[43m \u001b[49m\u001b[38;5;28;43;01mTrue\u001b[39;49;00m\u001b[43m,\u001b[49m\n\u001b[1;32m      8\u001b[0m \u001b[43m        \u001b[49m\u001b[43membed\u001b[49m\u001b[43m \u001b[49m\u001b[38;5;241;43m=\u001b[39;49m\u001b[43m \u001b[49m\u001b[38;5;124;43m'\u001b[39;49m\u001b[38;5;124;43mX_harmony\u001b[39;49m\u001b[38;5;124;43m'\u001b[39;49m\u001b[43m,\u001b[49m\n\u001b[1;32m      9\u001b[0m \u001b[43m        \u001b[49m\u001b[43morganism\u001b[49m\u001b[43m \u001b[49m\u001b[38;5;241;43m=\u001b[39;49m\u001b[43m \u001b[49m\u001b[38;5;124;43m'\u001b[39;49m\u001b[38;5;124;43mhuman\u001b[39;49m\u001b[38;5;124;43m'\u001b[39;49m\u001b[43m,\u001b[49m\n\u001b[1;32m     10\u001b[0m \u001b[43m        \u001b[49m\u001b[38;5;241;43m*\u001b[39;49m\u001b[38;5;241;43m*\u001b[39;49m\u001b[43meval_metrics\u001b[49m\n\u001b[1;32m     11\u001b[0m \u001b[43m)\u001b[49m\n",
      "File \u001b[0;32m~/miniforge3/envs/scib/lib/python3.10/site-packages/scib/metrics/metrics.py:329\u001b[0m, in \u001b[0;36mmetrics\u001b[0;34m(adata, adata_int, batch_key, label_key, embed, cluster_key, cluster_nmi, ari_, nmi_, nmi_method, nmi_dir, silhouette_, si_metric, pcr_, cell_cycle_, organism, hvg_score_, isolated_labels_, isolated_labels_f1_, isolated_labels_asw_, n_isolated, graph_conn_, trajectory_, kBET_, lisi_graph_, ilisi_, clisi_, subsample, n_cores, type_, verbose)\u001b[0m\n\u001b[1;32m    327\u001b[0m \u001b[38;5;28mprint\u001b[39m(\u001b[38;5;124m\"\u001b[39m\u001b[38;5;124mSilhouette score...\u001b[39m\u001b[38;5;124m\"\u001b[39m)\n\u001b[1;32m    328\u001b[0m \u001b[38;5;66;03m# global silhouette coefficient\u001b[39;00m\n\u001b[0;32m--> 329\u001b[0m asw_label \u001b[38;5;241m=\u001b[39m \u001b[43msilhouette\u001b[49m\u001b[43m(\u001b[49m\n\u001b[1;32m    330\u001b[0m \u001b[43m    \u001b[49m\u001b[43madata_int\u001b[49m\u001b[43m,\u001b[49m\u001b[43m \u001b[49m\u001b[43mlabel_key\u001b[49m\u001b[38;5;241;43m=\u001b[39;49m\u001b[43mlabel_key\u001b[49m\u001b[43m,\u001b[49m\u001b[43m \u001b[49m\u001b[43membed\u001b[49m\u001b[38;5;241;43m=\u001b[39;49m\u001b[43membed\u001b[49m\u001b[43m,\u001b[49m\u001b[43m \u001b[49m\u001b[43mmetric\u001b[49m\u001b[38;5;241;43m=\u001b[39;49m\u001b[43msi_metric\u001b[49m\n\u001b[1;32m    331\u001b[0m \u001b[43m\u001b[49m\u001b[43m)\u001b[49m\n\u001b[1;32m    332\u001b[0m \u001b[38;5;66;03m# silhouette coefficient per batch\u001b[39;00m\n\u001b[1;32m    333\u001b[0m asw_batch \u001b[38;5;241m=\u001b[39m silhouette_batch(\n\u001b[1;32m    334\u001b[0m     adata_int,\n\u001b[1;32m    335\u001b[0m     batch_key\u001b[38;5;241m=\u001b[39mbatch_key,\n\u001b[0;32m   (...)\u001b[0m\n\u001b[1;32m    340\u001b[0m     verbose\u001b[38;5;241m=\u001b[39m\u001b[38;5;28;01mFalse\u001b[39;00m,\n\u001b[1;32m    341\u001b[0m )\n",
      "File \u001b[0;32m~/miniforge3/envs/scib/lib/python3.10/site-packages/scanpy/_utils/__init__.py:165\u001b[0m, in \u001b[0;36mrenamed_arg.<locals>.decorator.<locals>.wrapper\u001b[0;34m(*args, **kwargs)\u001b[0m\n\u001b[1;32m    163\u001b[0m     \u001b[38;5;28;01melse\u001b[39;00m:\n\u001b[1;32m    164\u001b[0m         kwargs[new_name] \u001b[38;5;241m=\u001b[39m kwargs\u001b[38;5;241m.\u001b[39mpop(old_name)\n\u001b[0;32m--> 165\u001b[0m \u001b[38;5;28;01mreturn\u001b[39;00m \u001b[43mfunc\u001b[49m\u001b[43m(\u001b[49m\u001b[38;5;241;43m*\u001b[39;49m\u001b[43margs\u001b[49m\u001b[43m,\u001b[49m\u001b[43m \u001b[49m\u001b[38;5;241;43m*\u001b[39;49m\u001b[38;5;241;43m*\u001b[39;49m\u001b[43mkwargs\u001b[49m\u001b[43m)\u001b[49m\n",
      "File \u001b[0;32m~/miniforge3/envs/scib/lib/python3.10/site-packages/scib/metrics/silhouette.py:48\u001b[0m, in \u001b[0;36msilhouette\u001b[0;34m(adata, label_key, embed, metric, scale)\u001b[0m\n\u001b[1;32m     46\u001b[0m \u001b[38;5;28;01mif\u001b[39;00m embed \u001b[38;5;129;01mnot\u001b[39;00m \u001b[38;5;129;01min\u001b[39;00m adata\u001b[38;5;241m.\u001b[39mobsm\u001b[38;5;241m.\u001b[39mkeys():\n\u001b[1;32m     47\u001b[0m     \u001b[38;5;28mprint\u001b[39m(adata\u001b[38;5;241m.\u001b[39mobsm\u001b[38;5;241m.\u001b[39mkeys())\n\u001b[0;32m---> 48\u001b[0m     \u001b[38;5;28;01mraise\u001b[39;00m \u001b[38;5;167;01mKeyError\u001b[39;00m(\u001b[38;5;124mf\u001b[39m\u001b[38;5;124m\"\u001b[39m\u001b[38;5;132;01m{\u001b[39;00membed\u001b[38;5;132;01m}\u001b[39;00m\u001b[38;5;124m not in obsm\u001b[39m\u001b[38;5;124m\"\u001b[39m)\n\u001b[1;32m     49\u001b[0m asw \u001b[38;5;241m=\u001b[39m silhouette_score(\n\u001b[1;32m     50\u001b[0m     X\u001b[38;5;241m=\u001b[39madata\u001b[38;5;241m.\u001b[39mobsm[embed], labels\u001b[38;5;241m=\u001b[39madata\u001b[38;5;241m.\u001b[39mobs[label_key], metric\u001b[38;5;241m=\u001b[39mmetric\n\u001b[1;32m     51\u001b[0m )\n\u001b[1;32m     52\u001b[0m \u001b[38;5;28;01mif\u001b[39;00m scale:\n",
      "\u001b[0;31mKeyError\u001b[0m: 'X_harmony not in obsm'"
     ]
    }
   ],
   "source": [
    "# Compute the evaluation metrics for Harmony\n",
    "bench_result['harmony'] = scib.me.metrics(\n",
    "        adata,\n",
    "        integration_result['harmony'],\n",
    "        batch_key = BATCH_KEY,\n",
    "        label_key = CELLTYPE_KEY, \n",
    "        verbose = True,\n",
    "        embed = 'X_harmony',\n",
    "        organism = 'human',\n",
    "        **eval_metrics\n",
    ")"
   ]
  },
  {
   "cell_type": "code",
   "execution_count": null,
   "id": "ba27b0d3-f182-4437-ab4a-0a99b0d4874f",
   "metadata": {},
   "outputs": [],
   "source": [
    "bench_result['harmony'].rename(columns = {0 : 'harmony'}, inplace = True)\n",
    "bench_result['harmony']"
   ]
  },
  {
   "cell_type": "code",
   "execution_count": null,
   "id": "570978a9-7fd0-445b-bf78-781393ac9b72",
   "metadata": {},
   "outputs": [],
   "source": [
    "adata"
   ]
  },
  {
   "cell_type": "code",
   "execution_count": null,
   "id": "e7d57a7c-1e4e-4488-b80e-f7e5bf708aeb",
   "metadata": {
    "scrolled": true
   },
   "outputs": [],
   "source": [
    "# Run bbknn\n",
    "integration_result['bbknn'] = scib.integration.bbknn(adata, BATCH_KEY)\n",
    "sc.pp.neighbors(integration_result['bbknn'])\n",
    "# Eval bbknn\n",
    "bench_result['bbknn'] = scib.me.metrics(\n",
    "        adata,\n",
    "        integration_result['bbknn'], \n",
    "        batch_key = BATCH_KEY,\n",
    "        label_key = CELLTYPE_KEY,\n",
    "        verbose = True, embed = 'X_pca',\n",
    "        organism = 'human',\n",
    "        **eval_metrics\n",
    ")"
   ]
  },
  {
   "cell_type": "code",
   "execution_count": null,
   "id": "6b562a44-ef29-4bb7-9c5c-791203d999ff",
   "metadata": {},
   "outputs": [],
   "source": [
    "# Rename column\n",
    "bench_result['bbknn'].rename(columns = {0 : 'bbknn'}, inplace = True)\n",
    "bench_result['bbknn']"
   ]
  },
  {
   "cell_type": "code",
   "execution_count": null,
   "id": "5d811109-25fc-46e7-b076-58d3f134ff20",
   "metadata": {
    "scrolled": true
   },
   "outputs": [],
   "source": [
    "# Run scanorama\n",
    "integration_result['scanorama'] = scib.integration.scanorama(adata, BATCH_KEY)\n",
    "integration_result['scanorama'].obs[BATCH_KEY] = adata.obs[BATCH_KEY]\n",
    "integration_result['scanorama'].obs[CELLTYPE_KEY] = adata.obs[CELLTYPE_KEY].astype('category')\n",
    "\n",
    "# Bench scanorama\n",
    "bench_result['scanorama'] = scib.me.metrics(\n",
    "        adata,\n",
    "        integration_result['scanorama'], \n",
    "        batch_key = BATCH_KEY,\n",
    "        label_key = CELLTYPE_KEY,\n",
    "        verbose = True,\n",
    "        embed = 'X_pca',\n",
    "        organism = 'human',\n",
    "        **eval_metrics\n",
    ")"
   ]
  },
  {
   "cell_type": "code",
   "execution_count": null,
   "id": "0a4995d3-a88a-4853-a65c-8e38d833a251",
   "metadata": {},
   "outputs": [],
   "source": [
    "bench_result['scanorama'].rename(columns = {0 : 'scanorama'}, inplace = True)\n",
    "bench_result['scanorama']"
   ]
  },
  {
   "cell_type": "code",
   "execution_count": null,
   "id": "6a7e209a-762b-4994-8d05-26d5bd4cfbca",
   "metadata": {
    "scrolled": true
   },
   "outputs": [],
   "source": [
    "# Run combat\n",
    "integration_result['combat'] = scib.integration.combat(adata, BATCH_KEY)\n",
    "sc.pp.neighbors(integration_result['combat'])\n",
    "# Bench combat\n",
    "bench_result['combat'] = scib.me.metrics(\n",
    "        adata,\n",
    "        integration_result['combat'],\n",
    "        batch_key = BATCH_KEY,\n",
    "        label_key = CELLTYPE_KEY,\n",
    "        verbose = True,\n",
    "        embed = 'X_pca',\n",
    "        organism = 'human',\n",
    "        **eval_metrics\n",
    ")"
   ]
  },
  {
   "cell_type": "code",
   "execution_count": null,
   "id": "adb7abc0-4752-42cc-b6df-a0187b378a83",
   "metadata": {},
   "outputs": [],
   "source": [
    "bench_result['combat'].rename(columns = {0 : 'combat'}, inplace = True)\n",
    "bench_result['combat']"
   ]
  },
  {
   "cell_type": "code",
   "execution_count": null,
   "id": "e119c3ef-e04f-4559-8884-786cb35135e0",
   "metadata": {
    "scrolled": true
   },
   "outputs": [],
   "source": [
    "# Run saucie\n",
    "integration_result['saucie'] = scib.integration.combat(adata, BATCH_KEY)\n",
    "sc.pp.neighbors(integration_result['saucie'])\n",
    "# Bench saucie\n",
    "bench_result['saucie'] = scib.me.metrics(\n",
    "        adata,\n",
    "        integration_result['saucie'],\n",
    "        batch_key = BATCH_KEY,\n",
    "        label_key = CELLTYPE_KEY,\n",
    "        verbose = True,\n",
    "        embed = 'X_pca',\n",
    "        organism = 'human',\n",
    "        **eval_metrics\n",
    ")"
   ]
  },
  {
   "cell_type": "code",
   "execution_count": null,
   "id": "8c015f3d-2fef-4efa-8460-2e8463528a06",
   "metadata": {},
   "outputs": [],
   "source": [
    "# Rename column\n",
    "bench_result['saucie'].rename(columns = {0 : 'saucie'}, inplace = True)\n",
    "bench_result['saucie']"
   ]
  },
  {
   "cell_type": "code",
   "execution_count": null,
   "id": "dd867c1e-2d3f-444e-8fed-45e6b7775c8d",
   "metadata": {
    "scrolled": true
   },
   "outputs": [],
   "source": [
    "# Run trvae\n",
    "integration_result['trvae'] = scib.integration.combat(adata, BATCH_KEY)\n",
    "sc.pp.neighbors(integration_result['trvae'])\n",
    "# Bench saucie\n",
    "bench_result['trvae'] = scib.me.metrics(\n",
    "        adata,\n",
    "        integration_result['trvae'],\n",
    "        batch_key = BATCH_KEY,\n",
    "        label_key = CELLTYPE_KEY,\n",
    "        verbose = True,\n",
    "        embed = 'X_pca',\n",
    "        organism = 'human',\n",
    "        **eval_metrics\n",
    ")"
   ]
  },
  {
   "cell_type": "code",
   "execution_count": null,
   "id": "2fbaee3c-cd5e-46f4-9c5f-69519e10634b",
   "metadata": {},
   "outputs": [],
   "source": [
    "# Rename column\n",
    "bench_result['trvae'].rename(columns = {0 : 'trvae'}, inplace = True)\n",
    "bench_result['trvae']"
   ]
  },
  {
   "cell_type": "code",
   "execution_count": null,
   "id": "792df941-8c8d-4240-b055-b31fc80a8312",
   "metadata": {
    "scrolled": true
   },
   "outputs": [],
   "source": [
    "# Run tvraep\n",
    "integration_result['trvaep'] = scib.integration.combat(adata, BATCH_KEY)\n",
    "sc.pp.neighbors(integration_result['trvaep'])\n",
    "# Bench saucie\n",
    "bench_result['trvaep'] = scib.me.metrics(\n",
    "        adata,\n",
    "        integration_result['trvaep'],\n",
    "        batch_key = BATCH_KEY,\n",
    "        label_key = CELLTYPE_KEY,\n",
    "        verbose = True,\n",
    "        embed = 'X_pca',\n",
    "        organism = 'human',\n",
    "        **eval_metrics\n",
    ")"
   ]
  },
  {
   "cell_type": "code",
   "execution_count": null,
   "id": "727f22ef-60f8-4617-b682-31bafa146aad",
   "metadata": {},
   "outputs": [],
   "source": [
    "# Rename column\n",
    "bench_result['trvaep'].rename(columns = {0 : 'trvaep'}, inplace = True)\n",
    "bench_result['trvaep']"
   ]
  },
  {
   "cell_type": "code",
   "execution_count": null,
   "id": "71a5e29a-5433-4110-b385-3f8eac0f24ac",
   "metadata": {
    "scrolled": true
   },
   "outputs": [],
   "source": [
    "# Run scgen\n",
    "integration_result['scgen'] = scib.integration.combat(adata, BATCH_KEY)\n",
    "sc.pp.neighbors(integration_result['scgen'])\n",
    "# Bench saucie\n",
    "bench_result['scgen'] = scib.me.metrics(\n",
    "        adata,\n",
    "        integration_result['scgen'],\n",
    "        batch_key = BATCH_KEY,\n",
    "        label_key = CELLTYPE_KEY,\n",
    "        verbose = True,\n",
    "        embed = 'X_pca',\n",
    "        organism = 'human',\n",
    "        **eval_metrics\n",
    ")"
   ]
  },
  {
   "cell_type": "code",
   "execution_count": null,
   "id": "41901d87-9fd2-4c35-8200-50788425fe11",
   "metadata": {},
   "outputs": [],
   "source": [
    "# Rename column\n",
    "bench_result['scgen'].rename(columns = {0 : 'scgen'}, inplace = True)\n",
    "bench_result['scgen']"
   ]
  },
  {
   "cell_type": "code",
   "execution_count": null,
   "id": "f47247d7-f158-402b-8568-87f0f809adec",
   "metadata": {
    "scrolled": true
   },
   "outputs": [],
   "source": [
    "# Run mnn\n",
    "integration_result['mnn'] = scib.integration.combat(adata, BATCH_KEY)\n",
    "sc.pp.neighbors(integration_result['mnn'])\n",
    "# Bench saucie\n",
    "bench_result['mnn'] = scib.me.metrics(\n",
    "        adata,\n",
    "        integration_result['mnn'],\n",
    "        batch_key = BATCH_KEY,\n",
    "        label_key = CELLTYPE_KEY,\n",
    "        verbose = True,\n",
    "        embed = 'X_pca',\n",
    "        organism = 'human',\n",
    "        **eval_metrics\n",
    ")"
   ]
  },
  {
   "cell_type": "code",
   "execution_count": null,
   "id": "2b97e59b-e7fa-4da5-8994-0955d9071b91",
   "metadata": {},
   "outputs": [],
   "source": [
    "# Rename column\n",
    "bench_result['mnn'].rename(columns = {0 : 'mnn'}, inplace = True)\n",
    "bench_result['mnn']"
   ]
  },
  {
   "cell_type": "code",
   "execution_count": null,
   "id": "e57d16b7-7c8f-4146-906e-7be152d75c8e",
   "metadata": {
    "scrolled": true
   },
   "outputs": [],
   "source": [
    "# Run scvi\n",
    "integration_result['scvi'] = scib.integration.combat(adata, BATCH_KEY)\n",
    "sc.pp.neighbors(integration_result['scvi'])\n",
    "# Bench saucie\n",
    "bench_result['scvi'] = scib.me.metrics(\n",
    "        adata,\n",
    "        integration_result['scvi'],\n",
    "        batch_key = BATCH_KEY,\n",
    "        label_key = CELLTYPE_KEY,\n",
    "        verbose = True,\n",
    "        embed = 'X_pca',\n",
    "        organism = 'human',\n",
    "        **eval_metrics\n",
    ")"
   ]
  },
  {
   "cell_type": "code",
   "execution_count": null,
   "id": "27ef9746-10ec-4a6e-92ee-97ca27c22f76",
   "metadata": {},
   "outputs": [],
   "source": [
    "# Rename column\n",
    "bench_result['scvi'].rename(columns = {0 : 'scvi'}, inplace = True)\n",
    "bench_result['scvi']"
   ]
  },
  {
   "cell_type": "code",
   "execution_count": null,
   "id": "09aec24b-8ebe-4a43-becb-4309697a23f9",
   "metadata": {
    "scrolled": true
   },
   "outputs": [],
   "source": [
    "# Run scanvi\n",
    "integration_result['scanvi'] = scib.integration.combat(adata, BATCH_KEY)\n",
    "sc.pp.neighbors(integration_result['scanvi'])\n",
    "# Bench saucie\n",
    "bench_result['scanvi'] = scib.me.metrics(\n",
    "        adata,\n",
    "        integration_result['scanvi'],\n",
    "        batch_key = BATCH_KEY,\n",
    "        label_key = CELLTYPE_KEY,\n",
    "        verbose = True,\n",
    "        embed = 'X_pca',\n",
    "        organism = 'human',\n",
    "        **eval_metrics\n",
    ")"
   ]
  },
  {
   "cell_type": "code",
   "execution_count": null,
   "id": "2d787753-19ac-4f00-b237-275bde35c597",
   "metadata": {},
   "outputs": [],
   "source": [
    "# Rename column\n",
    "bench_result['scanvi'].rename(columns = {0 : 'scanvi'}, inplace = True)\n",
    "bench_result['scanvi']"
   ]
  },
  {
   "cell_type": "code",
   "execution_count": null,
   "id": "d2ec715d-e436-4257-89f9-e6cf1a954247",
   "metadata": {
    "scrolled": true
   },
   "outputs": [],
   "source": [
    "# Run desc\n",
    "integration_result['desc'] = scib.integration.combat(adata, BATCH_KEY)\n",
    "sc.pp.neighbors(integration_result['desc'])\n",
    "# Bench saucie\n",
    "bench_result['desc'] = scib.me.metrics(\n",
    "        adata,\n",
    "        integration_result['desc'],\n",
    "        batch_key = BATCH_KEY,\n",
    "        label_key = CELLTYPE_KEY,\n",
    "        verbose = True,\n",
    "        embed = 'X_pca',\n",
    "        organism = 'human',\n",
    "        **eval_metrics\n",
    ")"
   ]
  },
  {
   "cell_type": "code",
   "execution_count": null,
   "id": "970d10a0-f3e3-4f44-9166-6f433f3857d5",
   "metadata": {},
   "outputs": [],
   "source": [
    "# Rename column\n",
    "bench_result['desc'].rename(columns = {0 : 'desc'}, inplace = True)\n",
    "bench_result['desc']"
   ]
  },
  {
   "cell_type": "code",
   "execution_count": null,
   "id": "991f4b87-8bb0-4faa-bbca-6d36bfa34346",
   "metadata": {},
   "outputs": [],
   "source": [
    "merged_benchscores = pd.concat(bench_result.values(), axis = 1)"
   ]
  },
  {
   "cell_type": "code",
   "execution_count": null,
   "id": "dc0ec7b8-5a90-4c71-b426-533954a0969c",
   "metadata": {},
   "outputs": [],
   "source": [
    "merged_benchscores"
   ]
  },
  {
   "cell_type": "code",
   "execution_count": null,
   "id": "468dc359-0522-4287-92d5-4a8e6887ca4d",
   "metadata": {},
   "outputs": [],
   "source": [
    "# Metrics for batch effect removal\n",
    "batch_effect_removal = [\n",
    "    'PCR_batch',\n",
    "    'kBET',\n",
    "    'iLISI',\n",
    "    'graph_conn',\n",
    "    'ASW_label/batch'\n",
    "]\n",
    "\n",
    "# Metrics for conservation of biological variance\n",
    "biological_conservation_metrics = [\n",
    "    'NMI_cluster/label',\n",
    "    'ARI_cluster/label',\n",
    "    'ASW_label',\n",
    "    'isolated_label_F1',\n",
    "    'isolated_label_silhouette',\n",
    "    'cLISI',\n",
    "    'hvg_overlap'\n",
    "]\n"
   ]
  },
  {
   "cell_type": "code",
   "execution_count": null,
   "id": "fad529b4-dcbf-4fe2-88d8-8777c1a540f5",
   "metadata": {},
   "outputs": [],
   "source": [
    "total_scores = {}\n",
    "for k in merged_benchscores.keys():\n",
    "    batch_score = merged_benchscores[k].loc[batch_effect_removal].sum() / len(batch_effect_removal) * 0.4\n",
    "    conservation_score = merged_benchscores[k].loc[biological_conservation_metrics].sum() / len(biological_conservation_metrics) * 0.6\n",
    "    total_scores[k] = batch_score + conservation_score"
   ]
  },
  {
   "cell_type": "code",
   "execution_count": null,
   "id": "8eda844a-c2c3-4968-813a-93cf965b890a",
   "metadata": {},
   "outputs": [],
   "source": [
    "# Create a DataFrame from the total scores\n",
    "totalscore_df = pd.DataFrame.from_dict({\"Total score\": total_scores}, orient=\"index\")\n",
    "\n",
    "# Use pd.concat to combine the DataFrames\n",
    "merged_benchscores = pd.concat([merged_benchscores, totalscore_df])\n",
    "\n",
    "# Transpose if needed\n",
    "merged_benchscores = merged_benchscores.T\n"
   ]
  },
  {
   "cell_type": "code",
   "execution_count": null,
   "id": "5792d0e5-3aa4-4b6b-bd87-4dee69121569",
   "metadata": {},
   "outputs": [],
   "source": [
    "# Move Total score column up\n",
    "cols = merged_benchscores.columns.tolist()\n",
    "cols = cols[-1:] + cols[:-1]\n",
    "merged_benchscores = merged_benchscores[cols]"
   ]
  },
  {
   "cell_type": "code",
   "execution_count": null,
   "id": "3932f9a7-7d93-4323-a2c0-59da83e3ee1f",
   "metadata": {},
   "outputs": [],
   "source": [
    "# Sort benchscore table by Total score\n",
    "merged_benchscores.sort_values(by = 'Total score', ascending = False)"
   ]
  },
  {
   "cell_type": "code",
   "execution_count": null,
   "id": "4611ebc6-81bb-4174-9399-3bf6baf76fd9",
   "metadata": {},
   "outputs": [],
   "source": [
    "merged_benchscores.to_csv('./data/PBMC/h5ad/all.csv')"
   ]
  },
  {
   "cell_type": "code",
   "execution_count": null,
   "id": "90ab7ef1-69ea-4014-b146-8c7f47a141bc",
   "metadata": {},
   "outputs": [],
   "source": []
  }
 ],
 "metadata": {
  "kernelspec": {
   "display_name": "scIB",
   "language": "python",
   "name": "scib"
  },
  "language_info": {
   "codemirror_mode": {
    "name": "ipython",
    "version": 3
   },
   "file_extension": ".py",
   "mimetype": "text/x-python",
   "name": "python",
   "nbconvert_exporter": "python",
   "pygments_lexer": "ipython3",
   "version": "3.10.15"
  }
 },
 "nbformat": 4,
 "nbformat_minor": 5
}
